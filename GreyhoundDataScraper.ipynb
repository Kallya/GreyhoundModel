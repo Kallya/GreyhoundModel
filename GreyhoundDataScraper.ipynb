{
 "cells": [
  {
   "cell_type": "code",
   "execution_count": 26,
   "metadata": {},
   "outputs": [],
   "source": [
    "from urllib.request import urlopen, Request\n",
    "from bs4 import BeautifulSoup\n",
    "import pandas as pd\n",
    "import re\n",
    "from datetime import datetime"
   ]
  },
  {
   "cell_type": "code",
   "execution_count": 2,
   "metadata": {},
   "outputs": [],
   "source": [
    "def get_page_soup(url: str):\n",
    "    r = Request(url, headers={\"User-Agent\": \"Mozilla/5.0\"})\n",
    "\n",
    "    with urlopen(r) as webpage:\n",
    "        content = webpage.read().decode()\n",
    "        soup = BeautifulSoup(content)\n",
    "\n",
    "    return soup"
   ]
  },
  {
   "cell_type": "code",
   "execution_count": 3,
   "metadata": {},
   "outputs": [],
   "source": [
    "base_url = \"https://www.thegreyhoundrecorder.com.au\""
   ]
  },
  {
   "cell_type": "code",
   "execution_count": 4,
   "metadata": {},
   "outputs": [],
   "source": [
    "soup = get_page_soup(base_url + \"/greyhounds/fernando-bale\")"
   ]
  },
  {
   "cell_type": "code",
   "execution_count": 6,
   "metadata": {},
   "outputs": [],
   "source": [
    "profile = soup.find(id=\"dogProfileContainer\").p.find_all(recursive=False)"
   ]
  },
  {
   "cell_type": "code",
   "execution_count": 16,
   "metadata": {},
   "outputs": [],
   "source": [
    "a = profile[0].nextSibling.split()[1].strip(\"\\xa0\")"
   ]
  },
  {
   "cell_type": "code",
   "execution_count": 27,
   "metadata": {},
   "outputs": [
    {
     "data": {
      "text/plain": [
       "datetime.datetime(2013, 3, 12, 0, 0)"
      ]
     },
     "execution_count": 27,
     "metadata": {},
     "output_type": "execute_result"
    }
   ],
   "source": [
    "d = datetime.strptime(a, \"%d-%m-%Y\")"
   ]
  },
  {
   "cell_type": "code",
   "execution_count": 35,
   "metadata": {},
   "outputs": [
    {
     "data": {
      "text/plain": [
       "9"
      ]
     },
     "execution_count": 35,
     "metadata": {},
     "output_type": "execute_result"
    }
   ],
   "source": [
    "int((datetime.now() - d).days / 356)"
   ]
  },
  {
   "cell_type": "code",
   "execution_count": 30,
   "metadata": {},
   "outputs": [],
   "source": [
    "def scrape_dog_info(soup: BeautifulSoup):\n",
    "    # find name and breeding info\n",
    "    profile = soup.find(id=\"dogProfileContainer\")\n",
    "    name = profile.h1.text\n",
    "    breeding_links = [\n",
    "        base_url+link[\"href\"] for link in profile.span.find_all('a')\n",
    "        ]\n",
    "    breeding = ', '.join(\n",
    "        [link.text for link in profile.span.find_all('a')]\n",
    "    )\n",
    "\n",
    "    # find dog and trainer info\n",
    "    info_block = profile.p.find_all(recursive=False)\n",
    "    dog_type = info_block[0].text\n",
    "    \n",
    "    trainer_link = base_url+info_block[2][\"href\"]\n",
    "    trainer_name = info_block[2].text\n",
    "\n",
    "    # find racing records\n",
    "    record = profile.find(id=\"fragment-1\").find_all(recursive=False)\n",
    "    # overall win_rate\n",
    "    # win_rate needs to be created for individual tracks + distances\n",
    "    win_rate = float(\n",
    "        record[1].find(\"tr\").find_all(recursive=False)[-1].text[:-1]\n",
    "        ) / 100 # change percentage to decimal\n",
    "\n",
    "    race_records = []\n",
    "    for result in record[2].tbody.find_all(recursive=False):\n",
    "        result_dict = {}\n",
    "        result_entries = result.find_all(\"td\", recursive=False)\n",
    "        result_dict[\"race_link\"] = base_url + result_entries[0].a[\"href\"]\n",
    "        result_dict[\"track\"] = result_entries[1][\"title\"]\n",
    "        result_dict[\"place\"] = int(result_entries[2].text[0])\n",
    "        result_dict[\"box\"] = int(result_entries[3].text)\n",
    "        result_dict[\"distance\"] = int(result_entries[4].text)\n",
    "        result_dict[\"grade\"] = result_entries[5].text\n",
    "        result_dict[\"time\"] = float(result_entries[6].text)\n",
    "        result_dict[\"win_time\"] = float(result_entries[7].text)\n",
    "        result_dict[\"bon\"] = float(result_entries[8].text) # best time for that specific dist and grade in the meet\n",
    "        result_dict[\"margin\"] = float(result_entries[9].text[:-1])\n",
    "        result_dict[\"pir\"] = result_entries[10].text\n",
    "        result_dict[\"sp\"] = float(result_entries[12].text[1:])\n",
    "\n",
    "        race_records.append(result_dict)\n",
    "\n",
    "    return {\n",
    "        \"name\": name,\n",
    "        \"breeding_links\": breeding_links,\n",
    "        \"breeding\": breeding,\n",
    "        \"dog_type\": dog_type,\n",
    "        \"trainer_link\": trainer_link,\n",
    "        \"trainer_name\": trainer_name,\n",
    "        \"win_rate\": win_rate,\n",
    "        \"race_records\": race_records\n",
    "    }"
   ]
  },
  {
   "cell_type": "code",
   "execution_count": 29,
   "metadata": {},
   "outputs": [],
   "source": [
    "def get_run_stats(soup):\n",
    "    profile = soup.find(id=\"dogProfileContainer\")\n",
    "    stats = profile \\\n",
    "        .find(id=\"fragment-2\") \\\n",
    "        .find(id=\"distanceTimeStats\") \\\n",
    "        .find_all(class_=re.compile(\"datagrid stats hide marginBottom10\"))\n",
    "        \n",
    "    run_stats = {}\n",
    "    for track in stats:\n",
    "        track_stats = []\n",
    "        rows = track.tbody.find_all(recursive=False)\n",
    "        for row in rows:\n",
    "            stat_entry = {}\n",
    "            values = row.find_all(recursive=False)\n",
    "            stat_entry[\"distance\"] = values[0].text\n",
    "            stat_entry[\"starts\"] = values[1].text\n",
    "            stat_entry[\"win_rate\"] = int(values[2].text) / int(values[1].text)\n",
    "            stat_entry[\"best_time\"] = float(values[6].text)\n",
    "            track_stats.append(stat_entry)\n",
    "        track_loc = track[\"class\"][-1]\n",
    "        run_stats[track_loc] = track_stats\n",
    "    \n",
    "    return run_stats"
   ]
  },
  {
   "cell_type": "code",
   "execution_count": 26,
   "metadata": {},
   "outputs": [],
   "source": [
    "# only gets overall stats\n",
    "def get_box_stats(soup):\n",
    "    profile = soup.find(id=\"dogProfileContainer\")\n",
    "    stats = profile \\\n",
    "        .find(id=\"fragment-2\") \\\n",
    "        .find(id=\"boxTrackStats\") \\\n",
    "        .find_all(class_=re.compile(\"datagrid stats hide\"))\n",
    "        \n",
    "    box_stats = {}\n",
    "    for track in stats:\n",
    "        track_stats = []\n",
    "        rows = track.tbody.find_all(recursive=False)\n",
    "        for row in enumerate(rows):\n",
    "            stat_entry = {}\n",
    "            values = row[1].find_all(recursive=False)\n",
    "            stat_entry[\"box\"] = int(values[0].text)\n",
    "            starts = int(values[1].text)\n",
    "            stat_entry[\"starts\"] = starts\n",
    "            if starts != 0:\n",
    "                stat_entry[\"win_rate\"] = int(values[2].text) / int(values[1].text)\n",
    "            else:\n",
    "                stat_entry[\"win_rate\"] = None\n",
    "            track_stats.append(stat_entry)\n",
    "        # be aware overall will also be a track_loc\n",
    "        track_loc = track[\"class\"][-1] # no space for two word locations\n",
    "        box_stats[track_loc] = track_stats\n",
    "\n",
    "    return box_stats"
   ]
  }
 ],
 "metadata": {
  "kernelspec": {
   "display_name": "Python 3.10.4 ('venv': venv)",
   "language": "python",
   "name": "python3"
  },
  "language_info": {
   "codemirror_mode": {
    "name": "ipython",
    "version": 3
   },
   "file_extension": ".py",
   "mimetype": "text/x-python",
   "name": "python",
   "nbconvert_exporter": "python",
   "pygments_lexer": "ipython3",
   "version": "3.10.4"
  },
  "orig_nbformat": 4,
  "vscode": {
   "interpreter": {
    "hash": "1f39ac08f080bed9f65db098af1f1e9c9b34242fc0b2e37b56675f3f4db02c03"
   }
  }
 },
 "nbformat": 4,
 "nbformat_minor": 2
}
