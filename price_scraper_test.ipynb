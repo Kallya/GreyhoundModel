{
 "cells": [
  {
   "cell_type": "code",
   "execution_count": 1,
   "metadata": {},
   "outputs": [],
   "source": [
    "import pandas as pd"
   ]
  },
  {
   "cell_type": "code",
   "execution_count": 2,
   "metadata": {},
   "outputs": [],
   "source": [
    "f = pd.read_csv(\"dwbfgreyhoundwin05122022.csv\")"
   ]
  },
  {
   "cell_type": "code",
   "execution_count": 3,
   "metadata": {},
   "outputs": [],
   "source": [
    "f = f.iloc[:, :8]\n",
    "f.drop(columns=[\"EVENT_ID\", \"SELECTION_ID\"], inplace=True)"
   ]
  },
  {
   "cell_type": "code",
   "execution_count": 4,
   "metadata": {},
   "outputs": [],
   "source": [
    "allowed_locs = [\"AUS\", \"NZL\"]\n",
    "for t in enumerate(f.loc[:, \"MENU_HINT\"]):\n",
    "    location = t[1].split(' / ')[0]\n",
    "    if location not in allowed_locs:\n",
    "        f.drop(t[0], inplace=True)"
   ]
  },
  {
   "cell_type": "code",
   "execution_count": 5,
   "metadata": {},
   "outputs": [],
   "source": [
    "def get_date(event_dt):\n",
    "    return event_dt.split()[0]\n",
    "\n",
    "def get_track_loc(menu_hint):\n",
    "    return menu_hint.split()[2]\n",
    "\n",
    "def get_race_no(event_name):\n",
    "    return int(event_name.split()[0][1:])\n",
    "\n",
    "def get_dist(event_name):\n",
    "    return int(event_name.split()[1][:-1])\n",
    "\n",
    "def get_name(selection_name):\n",
    "    return selection_name[3:]"
   ]
  },
  {
   "cell_type": "code",
   "execution_count": 6,
   "metadata": {},
   "outputs": [],
   "source": [
    "f[[\"MENU_HINT\", \"EVENT_DT\", \"EVENT_NAME\", \"SELECTION_NAME\"]] = f.transform({\n",
    "    \"MENU_HINT\": get_track_loc, \n",
    "    \"EVENT_DT\": get_date, \n",
    "    \"EVENT_NAME\": get_race_no,\n",
    "    \"SELECTION_NAME\": get_name\n",
    "    })"
   ]
  },
  {
   "cell_type": "code",
   "execution_count": 24,
   "metadata": {},
   "outputs": [],
   "source": [
    "f.rename(columns={\n",
    "    \"MENU_HINT\": \"track_loc\",\n",
    "    \"EVENT_DT\": \"date\",\n",
    "    \"EVENT_NAME\": \"race_no\",\n",
    "    \"SELECTION_NAME\": \"dog_id\",\n",
    "    \"WIN_LOSE\": \"win\",\n",
    "    \"BSP\": \"bsp\"\n",
    "}, inplace=True)"
   ]
  },
  {
   "cell_type": "code",
   "execution_count": 49,
   "metadata": {},
   "outputs": [],
   "source": [
    "def find_races(cleaned_df: pd.DataFrame, track_loc=None, date=None, \\\n",
    "    race_no=None, dog_id=None, win=None, bsp_filter=None):\n",
    "    query = []\n",
    "    if track_loc != None:\n",
    "        query.append(\"track_loc == @track_loc\")\n",
    "    if date != None:\n",
    "        query.append(\"date == @date\")\n",
    "    if race_no != None:\n",
    "        query.append(\"race_no == @race_no\")\n",
    "    if dog_id != None:\n",
    "        query.append(\"dog_id == @dog_id\")\n",
    "    if win != None:\n",
    "        query.append(\"win == @win\")\n",
    "    if bsp_filter != None:\n",
    "        query.append(\"bsp \" + bsp_filter)\n",
    "        \n",
    "    return cleaned_df.query(\" and \".join(query))"
   ]
  }
 ],
 "metadata": {
  "kernelspec": {
   "display_name": "Python 3.10.4 ('venv': venv)",
   "language": "python",
   "name": "python3"
  },
  "language_info": {
   "codemirror_mode": {
    "name": "ipython",
    "version": 3
   },
   "file_extension": ".py",
   "mimetype": "text/x-python",
   "name": "python",
   "nbconvert_exporter": "python",
   "pygments_lexer": "ipython3",
   "version": "3.10.4"
  },
  "orig_nbformat": 4,
  "vscode": {
   "interpreter": {
    "hash": "1f39ac08f080bed9f65db098af1f1e9c9b34242fc0b2e37b56675f3f4db02c03"
   }
  }
 },
 "nbformat": 4,
 "nbformat_minor": 2
}
