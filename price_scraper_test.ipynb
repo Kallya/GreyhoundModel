{
 "cells": [
  {
   "cell_type": "code",
   "execution_count": 21,
   "metadata": {},
   "outputs": [],
   "source": [
    "import pandas as pd"
   ]
  },
  {
   "cell_type": "code",
   "execution_count": 22,
   "metadata": {},
   "outputs": [],
   "source": [
    "f = pd.read_csv(\"dwbfgreyhoundwin05122022.csv\")"
   ]
  },
  {
   "cell_type": "code",
   "execution_count": 23,
   "metadata": {},
   "outputs": [],
   "source": [
    "f = f.iloc[:, :8]\n",
    "f.drop(columns=[\"EVENT_ID\", \"SELECTION_ID\"], inplace=True)"
   ]
  },
  {
   "cell_type": "code",
   "execution_count": 24,
   "metadata": {},
   "outputs": [],
   "source": [
    "allowed_locs = [\"AUS\", \"NZL\"]\n",
    "for t in enumerate(f.loc[:, \"MENU_HINT\"]):\n",
    "    location = t[1].split(' / ')[0]\n",
    "    if location not in allowed_locs:\n",
    "        f.drop(t[0], inplace=True)"
   ]
  },
  {
   "cell_type": "code",
   "execution_count": 25,
   "metadata": {},
   "outputs": [],
   "source": [
    "def get_date(event_dt):\n",
    "    return event_dt.split()[0]\n",
    "\n",
    "def get_track_loc(menu_hint):\n",
    "    return menu_hint.split()[2]\n",
    "\n",
    "def get_race_no(event_name):\n",
    "    return int(event_name.split()[0][1:])\n",
    "\n",
    "def get_dist(event_name):\n",
    "    return int(event_name.split()[1][:-1])\n",
    "\n",
    "def get_name(selection_name):\n",
    "    return selection_name[3:]"
   ]
  },
  {
   "cell_type": "code",
   "execution_count": 26,
   "metadata": {},
   "outputs": [],
   "source": [
    "f[[\"MENU_HINT\", \"EVENT_DT\", \"EVENT_NAME\", \"SELECTION_NAME\"]] = f.transform({\n",
    "    \"MENU_HINT\": get_track_loc, \n",
    "    \"EVENT_DT\": get_date, \n",
    "    \"EVENT_NAME\": get_race_no,\n",
    "    \"SELECTION_NAME\": get_name\n",
    "    })"
   ]
  },
  {
   "cell_type": "code",
   "execution_count": 27,
   "metadata": {},
   "outputs": [],
   "source": [
    "f.rename(columns={\n",
    "    \"MENU_HINT\": \"track_loc\",\n",
    "    \"EVENT_DT\": \"date\",\n",
    "    \"EVENT_NAME\": \"race_no\",\n",
    "    \"SELECTION_NAME\": \"dog_id\"\n",
    "}, inplace=True)"
   ]
  },
  {
   "cell_type": "code",
   "execution_count": 28,
   "metadata": {},
   "outputs": [],
   "source": [
    "def find_race(result_df: pd.DataFrame, track_loc, date, race_no):\n",
    "    return result_df.query(\n",
    "        \"track_loc == @track_loc \\\n",
    "        and date == @date \\\n",
    "        and race_no == @race_no\"\n",
    "    )"
   ]
  },
  {
   "cell_type": "code",
   "execution_count": 30,
   "metadata": {},
   "outputs": [
    {
     "data": {
      "text/html": [
       "<div>\n",
       "<style scoped>\n",
       "    .dataframe tbody tr th:only-of-type {\n",
       "        vertical-align: middle;\n",
       "    }\n",
       "\n",
       "    .dataframe tbody tr th {\n",
       "        vertical-align: top;\n",
       "    }\n",
       "\n",
       "    .dataframe thead th {\n",
       "        text-align: right;\n",
       "    }\n",
       "</style>\n",
       "<table border=\"1\" class=\"dataframe\">\n",
       "  <thead>\n",
       "    <tr style=\"text-align: right;\">\n",
       "      <th></th>\n",
       "      <th>track_loc</th>\n",
       "      <th>race_no</th>\n",
       "      <th>date</th>\n",
       "      <th>dog_id</th>\n",
       "      <th>WIN_LOSE</th>\n",
       "      <th>BSP</th>\n",
       "    </tr>\n",
       "  </thead>\n",
       "  <tbody>\n",
       "    <tr>\n",
       "      <th>0</th>\n",
       "      <td>Richmond</td>\n",
       "      <td>6</td>\n",
       "      <td>04-12-2022</td>\n",
       "      <td>Solo Fernando</td>\n",
       "      <td>0</td>\n",
       "      <td>7.600000</td>\n",
       "    </tr>\n",
       "    <tr>\n",
       "      <th>241</th>\n",
       "      <td>Richmond</td>\n",
       "      <td>6</td>\n",
       "      <td>04-12-2022</td>\n",
       "      <td>Zoe Zoom Bug</td>\n",
       "      <td>1</td>\n",
       "      <td>8.800000</td>\n",
       "    </tr>\n",
       "    <tr>\n",
       "      <th>448</th>\n",
       "      <td>Richmond</td>\n",
       "      <td>6</td>\n",
       "      <td>04-12-2022</td>\n",
       "      <td>Lady Charm</td>\n",
       "      <td>0</td>\n",
       "      <td>56.570252</td>\n",
       "    </tr>\n",
       "    <tr>\n",
       "      <th>862</th>\n",
       "      <td>Richmond</td>\n",
       "      <td>6</td>\n",
       "      <td>04-12-2022</td>\n",
       "      <td>Night Buttons</td>\n",
       "      <td>0</td>\n",
       "      <td>13.989067</td>\n",
       "    </tr>\n",
       "    <tr>\n",
       "      <th>863</th>\n",
       "      <td>Richmond</td>\n",
       "      <td>6</td>\n",
       "      <td>04-12-2022</td>\n",
       "      <td>Blue Jean</td>\n",
       "      <td>0</td>\n",
       "      <td>2.180000</td>\n",
       "    </tr>\n",
       "    <tr>\n",
       "      <th>1081</th>\n",
       "      <td>Richmond</td>\n",
       "      <td>6</td>\n",
       "      <td>04-12-2022</td>\n",
       "      <td>Slingshot Xena</td>\n",
       "      <td>0</td>\n",
       "      <td>28.566038</td>\n",
       "    </tr>\n",
       "    <tr>\n",
       "      <th>1394</th>\n",
       "      <td>Richmond</td>\n",
       "      <td>6</td>\n",
       "      <td>04-12-2022</td>\n",
       "      <td>Zulu Sparrow</td>\n",
       "      <td>0</td>\n",
       "      <td>99.437723</td>\n",
       "    </tr>\n",
       "    <tr>\n",
       "      <th>1395</th>\n",
       "      <td>Richmond</td>\n",
       "      <td>6</td>\n",
       "      <td>04-12-2022</td>\n",
       "      <td>Towering Larry</td>\n",
       "      <td>0</td>\n",
       "      <td>6.600000</td>\n",
       "    </tr>\n",
       "  </tbody>\n",
       "</table>\n",
       "</div>"
      ],
      "text/plain": [
       "     track_loc  race_no        date          dog_id  WIN_LOSE        BSP\n",
       "0     Richmond        6  04-12-2022   Solo Fernando         0   7.600000\n",
       "241   Richmond        6  04-12-2022    Zoe Zoom Bug         1   8.800000\n",
       "448   Richmond        6  04-12-2022      Lady Charm         0  56.570252\n",
       "862   Richmond        6  04-12-2022   Night Buttons         0  13.989067\n",
       "863   Richmond        6  04-12-2022       Blue Jean         0   2.180000\n",
       "1081  Richmond        6  04-12-2022  Slingshot Xena         0  28.566038\n",
       "1394  Richmond        6  04-12-2022    Zulu Sparrow         0  99.437723\n",
       "1395  Richmond        6  04-12-2022  Towering Larry         0   6.600000"
      ]
     },
     "execution_count": 30,
     "metadata": {},
     "output_type": "execute_result"
    }
   ],
   "source": [
    "find_race(f, \"Richmond\", \"04-12-2022\", 6)"
   ]
  }
 ],
 "metadata": {
  "kernelspec": {
   "display_name": "Python 3.10.4 ('venv': venv)",
   "language": "python",
   "name": "python3"
  },
  "language_info": {
   "codemirror_mode": {
    "name": "ipython",
    "version": 3
   },
   "file_extension": ".py",
   "mimetype": "text/x-python",
   "name": "python",
   "nbconvert_exporter": "python",
   "pygments_lexer": "ipython3",
   "version": "3.10.4"
  },
  "orig_nbformat": 4,
  "vscode": {
   "interpreter": {
    "hash": "1f39ac08f080bed9f65db098af1f1e9c9b34242fc0b2e37b56675f3f4db02c03"
   }
  }
 },
 "nbformat": 4,
 "nbformat_minor": 2
}
