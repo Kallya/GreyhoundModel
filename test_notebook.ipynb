{
 "cells": [
  {
   "cell_type": "code",
   "execution_count": 1,
   "metadata": {},
   "outputs": [],
   "source": [
    "from datetime import datetime, timedelta\n",
    "import mysql.connector"
   ]
  },
  {
   "cell_type": "code",
   "execution_count": 2,
   "metadata": {},
   "outputs": [],
   "source": [
    "database = mysql.connector.connect(\n",
    "        host=\"localhost\",\n",
    "        user=\"root\",\n",
    "        passwd=\"passwd\",\n",
    "        database=\"race_data\"\n",
    "    )\n",
    "cursor = database.cursor()"
   ]
  },
  {
   "cell_type": "code",
   "execution_count": 3,
   "metadata": {},
   "outputs": [],
   "source": [
    "import feature_engineering as fe"
   ]
  },
  {
   "cell_type": "code",
   "execution_count": 4,
   "metadata": {},
   "outputs": [
    {
     "ename": "AttributeError",
     "evalue": "'int' object has no attribute 'execute'",
     "output_type": "error",
     "traceback": [
      "\u001b[1;31m---------------------------------------------------------------------------\u001b[0m",
      "\u001b[1;31mAttributeError\u001b[0m                            Traceback (most recent call last)",
      "\u001b[1;32mc:\\Users\\kaleb\\Documents\\GreyhoundModel\\test_notebook.ipynb Cell 4\u001b[0m in \u001b[0;36m<cell line: 1>\u001b[1;34m()\u001b[0m\n\u001b[1;32m----> <a href='vscode-notebook-cell:/c%3A/Users/kaleb/Documents/GreyhoundModel/test_notebook.ipynb#W3sZmlsZQ%3D%3D?line=0'>1</a>\u001b[0m fe\u001b[39m.\u001b[39;49mget_recent_weight_stddev(\u001b[39m22231\u001b[39;49m, \u001b[39m\"\u001b[39;49m\u001b[39mAARON ALPACA\u001b[39;49m\u001b[39m\"\u001b[39;49m, \u001b[39m3\u001b[39;49m, cursor)\n",
      "File \u001b[1;32mc:\\Users\\kaleb\\Documents\\GreyhoundModel\\feature_engineering.py:113\u001b[0m, in \u001b[0;36mget_recent_weight_stddev\u001b[1;34m(cursor, race_id, dog_id, n)\u001b[0m\n\u001b[0;32m    112\u001b[0m \u001b[39mdef\u001b[39;00m \u001b[39mget_recent_weight_stddev\u001b[39m(cursor, race_id, dog_id, n):\n\u001b[1;32m--> 113\u001b[0m     \u001b[39mreturn\u001b[39;00m get_sql_result(\n\u001b[0;32m    114\u001b[0m         q_get_recent_weight_stddev,\n\u001b[0;32m    115\u001b[0m         cursor,\n\u001b[0;32m    116\u001b[0m         \u001b[39m0\u001b[39;49m,\n\u001b[0;32m    117\u001b[0m         \u001b[39mfloat\u001b[39;49m,\n\u001b[0;32m    118\u001b[0m         race_id,\n\u001b[0;32m    119\u001b[0m         dog_id,\n\u001b[0;32m    120\u001b[0m         race_id,\n\u001b[0;32m    121\u001b[0m         n\n\u001b[0;32m    122\u001b[0m     )\n",
      "File \u001b[1;32mc:\\Users\\kaleb\\Documents\\GreyhoundModel\\feature_engineering.py:72\u001b[0m, in \u001b[0;36mget_sql_result\u001b[1;34m(query, cursor, null_val, conv_func, *args)\u001b[0m\n\u001b[0;32m     71\u001b[0m \u001b[39mdef\u001b[39;00m \u001b[39mget_sql_result\u001b[39m(query, cursor, null_val, conv_func, \u001b[39m*\u001b[39margs):\n\u001b[1;32m---> 72\u001b[0m     cursor\u001b[39m.\u001b[39;49mexecute(query, args)\n\u001b[0;32m     73\u001b[0m     result \u001b[39m=\u001b[39m cursor\u001b[39m.\u001b[39mfetchone()[\u001b[39m0\u001b[39m]\n\u001b[0;32m     75\u001b[0m     \u001b[39mif\u001b[39;00m result \u001b[39m==\u001b[39m \u001b[39mNone\u001b[39;00m:\n",
      "\u001b[1;31mAttributeError\u001b[0m: 'int' object has no attribute 'execute'"
     ]
    }
   ],
   "source": [
    "fe.get_recent_weight_stddev(22231, \"AARON ALPACA\", 3, cursor)"
   ]
  },
  {
   "cell_type": "code",
   "execution_count": 5,
   "metadata": {},
   "outputs": [
    {
     "data": {
      "text/plain": [
       "-1"
      ]
     },
     "execution_count": 5,
     "metadata": {},
     "output_type": "execute_result"
    }
   ],
   "source": [
    "fe.get_track_win_rate(22231, \"AARON ALPACA\", cursor)"
   ]
  },
  {
   "cell_type": "code",
   "execution_count": 6,
   "metadata": {},
   "outputs": [
    {
     "data": {
      "text/plain": [
       "7"
      ]
     },
     "execution_count": 6,
     "metadata": {},
     "output_type": "execute_result"
    }
   ],
   "source": [
    "fe.get_time_since_last_start(cursor, 6360, \"AARON ALPACA\")"
   ]
  },
  {
   "cell_type": "code",
   "execution_count": 7,
   "metadata": {},
   "outputs": [
    {
     "data": {
      "text/plain": [
       "0"
      ]
     },
     "execution_count": 7,
     "metadata": {},
     "output_type": "execute_result"
    }
   ],
   "source": [
    "fe.get_track_total_starts(22231, \"AARON ALPACA\", cursor)"
   ]
  },
  {
   "cell_type": "code",
   "execution_count": 6,
   "metadata": {},
   "outputs": [],
   "source": [
    "database.close()"
   ]
  }
 ],
 "metadata": {
  "kernelspec": {
   "display_name": "venv",
   "language": "python",
   "name": "python3"
  },
  "language_info": {
   "codemirror_mode": {
    "name": "ipython",
    "version": 3
   },
   "file_extension": ".py",
   "mimetype": "text/x-python",
   "name": "python",
   "nbconvert_exporter": "python",
   "pygments_lexer": "ipython3",
   "version": "3.10.4"
  },
  "orig_nbformat": 4,
  "vscode": {
   "interpreter": {
    "hash": "1f39ac08f080bed9f65db098af1f1e9c9b34242fc0b2e37b56675f3f4db02c03"
   }
  }
 },
 "nbformat": 4,
 "nbformat_minor": 2
}
