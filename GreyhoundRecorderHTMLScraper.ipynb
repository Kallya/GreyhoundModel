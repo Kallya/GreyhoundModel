{
 "cells": [
  {
   "cell_type": "code",
   "execution_count": 3,
   "metadata": {},
   "outputs": [],
   "source": [
    "from urllib.request import urlopen, Request\n",
    "from bs4 import BeautifulSoup"
   ]
  },
  {
   "cell_type": "code",
   "execution_count": 4,
   "metadata": {},
   "outputs": [],
   "source": [
    "# organise by tracks? record dates?\n",
    "def get_results_html(results_urls):\n",
    "    soups = []\n",
    "    \n",
    "    for url in results_urls:\n",
    "        r = Request(url, headers={\"User-Agent\": \"Mozilla/5.0\"})\n",
    "\n",
    "        with urlopen(r) as webpage:\n",
    "            content = webpage.read().decode()\n",
    "            soups.append(BeautifulSoup(content))\n",
    "\n",
    "    return soups"
   ]
  },
  {
   "cell_type": "code",
   "execution_count": 28,
   "metadata": {},
   "outputs": [],
   "source": [
    "def extract_distance(race_title):\n",
    "    return race_title.split()[-1].strip(\"()\")\n",
    "\n",
    "def extract_race_grade(race_header):\n",
    "    race_class =  race_header.split('$')[0]\n",
    "    return race_class[:-3]\n",
    "\n",
    "def extract_fastest_split(race_header):\n",
    "    return float(race_header.split()[1].strip(','))\n",
    "\n",
    "# first_row is second div element in first runnerSubDetails\n",
    "def extract_win_time(first_row):\n",
    "    time = first_row.strip()[4:]\n",
    "    return float(time)"
   ]
  },
  {
   "cell_type": "code",
   "execution_count": 33,
   "metadata": {},
   "outputs": [],
   "source": [
    "races = soup.find_all(attrs={\"class\": \"dogContainer\"})"
   ]
  },
  {
   "cell_type": "code",
   "execution_count": 36,
   "metadata": {},
   "outputs": [],
   "source": [
    "def scrape_times(races):\n",
    "    race_time_dict = {}\n",
    "    sect_time_dict = {}\n",
    "    \n",
    "    for race in races:\n",
    "        race_title = race.find(attrs={\"class\": \"font14\"}).text\n",
    "        distance = extract_distance(race_title)\n",
    "\n",
    "        race_header = race.select(\".runnerFormHeader div\")\n",
    "        grade = extract_race_grade(race_header[1].text)\n",
    "        fastest_split = extract_fastest_split(race_header[2].text)\n",
    "\n",
    "        first_row = race.select(\".runnerContainer .runnerSubDetails div\")[1].text\n",
    "        win_time = extract_win_time(first_row)\n",
    "\n",
    "        if distance not in race_time_dict:\n",
    "            race_time_dict[distance] = {}\n",
    "            sect_time_dict[distance] = {}\n",
    "\n",
    "        if grade not in race_time_dict[distance]:\n",
    "            race_time_dict[distance][grade] = []\n",
    "            sect_time_dict[distance][grade] = []\n",
    "\n",
    "        race_time_dict[distance][grade].append(win_time)\n",
    "        sect_time_dict[distance][grade].append(fastest_split)\n",
    "\n",
    "    return race_time_dict, sect_time_dict\n"
   ]
  }
 ],
 "metadata": {
  "interpreter": {
   "hash": "90464387efb32583326a115f47dda8993ee62c128426e5f132b099887b33ee9d"
  },
  "kernelspec": {
   "display_name": "Python 3.10.4 ('OddsScraper': venv)",
   "language": "python",
   "name": "python3"
  },
  "language_info": {
   "codemirror_mode": {
    "name": "ipython",
    "version": 3
   },
   "file_extension": ".py",
   "mimetype": "text/x-python",
   "name": "python",
   "nbconvert_exporter": "python",
   "pygments_lexer": "ipython3",
   "version": "3.10.4"
  },
  "orig_nbformat": 4
 },
 "nbformat": 4,
 "nbformat_minor": 2
}
