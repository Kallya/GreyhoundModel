{
 "cells": [
  {
   "cell_type": "code",
   "execution_count": null,
   "metadata": {},
   "outputs": [],
   "source": [
    "from selenium import webdriver\n",
    "from selenium.webdriver.edge.service import Service\n",
    "from webdriver_manager.microsoft import EdgeChromiumDriverManager\n",
    "from selenium.webdriver.common.by import By"
   ]
  },
  {
   "cell_type": "code",
   "execution_count": null,
   "metadata": {},
   "outputs": [],
   "source": [
    "def extract_distance(text):\n",
    "    return text.split()[-1].strip(\"()\")\n",
    "\n",
    "def extract_race_class(header):\n",
    "    race_class =  header.split('$')[0]\n",
    "    return race_class[:-3]\n",
    "\n",
    "def extract_fastest_split(header):\n",
    "    return float(header.split()[1].strip(','))\n",
    "\n",
    "# first_entry is \"runnerContainer\" element\n",
    "def extract_win_time(first_entry):\n",
    "    sub_details = first_entry.find_elements(By.CSS_SELECTOR, \".runnerSubDetails div\")\n",
    "    time = sub_details[1].get_attribute(\"innerText\").strip()[4:]\n",
    "    return float(time)\n",
    "\n",
    "def get_variant_times(time_dict):\n",
    "    variant_times = {}\n",
    "\n",
    "    for distance in time_dict:\n",
    "        total_averages = 0\n",
    "        for grade in time_dict[distance]:\n",
    "            times = []\n",
    "            times = time_dict[distance][grade]\n",
    "            total_averages += sum(times) / len(times)\n",
    "        variant_times[distance] = total_averages / len(time_dict[distance])\n",
    "    \n",
    "    return variant_times\n",
    "\n",
    "def get_time_variant(variant_time, standard_time):\n",
    "    return variant_time - standard_time\n",
    "\n",
    "def get_adjusted_time(actual_time, time_variant):\n",
    "    return actual_time - time_variant"
   ]
  },
  {
   "cell_type": "code",
   "execution_count": null,
   "metadata": {},
   "outputs": [],
   "source": [
    "results_page_url = input(\"Results page URL: \")\n",
    "\n",
    "service = Service(executable_path=EdgeChromiumDriverManager().install())\n",
    "options = webdriver.EdgeOptions()\n",
    "driver = webdriver.Edge(service=service, options=options)\n",
    "driver.get(results_page_url)\n",
    "\n",
    "races = driver.find_elements(By.CLASS_NAME, \"dogContainer\")\n",
    " # track = driver.title.split()[0]\n",
    " # maybe use track to access\n",
    "race_time_dict = {}\n",
    "sect_time_dict = {}\n"
   ]
  },
  {
   "cell_type": "code",
   "execution_count": null,
   "metadata": {},
   "outputs": [],
   "source": [
    "for race in races:\n",
    "    # extract distance\n",
    "    race_summary = race.find_element(By.CLASS_NAME, \"font14\")\n",
    "    distance = extract_distance(race_summary.get_attribute(\"innerText\"))\n",
    "\n",
    "    # extract grade and 1st split\n",
    "    header = race.find_elements(By.CSS_SELECTOR, \".runnerFormHeader div\")\n",
    "    grade = extract_race_class(header[1].get_attribute(\"innerText\"))\n",
    "    fastest_1st_split = extract_fastest_split(header[2].get_attribute(\"innerText\"))\n",
    "\n",
    "    # get win time\n",
    "    first_runner_entry = race.find_element(By.CLASS_NAME, \"runnerContainer\")\n",
    "    win_time = extract_win_time(first_runner_entry)\n",
    "\n",
    "    if distance not in race_time_dict:\n",
    "        race_time_dict[distance] = {}\n",
    "        sect_time_dict[distance] = {}\n",
    "\n",
    "    if grade not in race_time_dict[distance]:\n",
    "        race_time_dict[distance][grade] = []\n",
    "        sect_time_dict[distance][grade] = []\n",
    "\n",
    "    race_time_dict[distance][grade].append(win_time)\n",
    "    sect_time_dict[distance][grade].append(fastest_1st_split)"
   ]
  },
  {
   "cell_type": "code",
   "execution_count": null,
   "metadata": {},
   "outputs": [],
   "source": [
    "# calculating time variants\n",
    "variant_race_times = get_variant_times(race_time_dict)\n",
    "variant_sect_times = get_variant_times(sect_time_dict)\n",
    "\n",
    "race_time_variants = {}\n",
    "sect_time_variants = {}\n",
    "for distance in variant_race_times:\n",
    "    standard_race_time = float(input(f\"{distance} standard race time: \"))\n",
    "    standard_sect_time = float(input(f\"{distance} standard 1st sectional time: \"))\n",
    "    race_time_variants[distance] = get_time_variant(variant_race_times[distance], standard_race_time)\n",
    "    sect_time_variants[distance] = get_time_variant(variant_sect_times[distance], standard_sect_time)"
   ]
  },
  {
   "cell_type": "code",
   "execution_count": null,
   "metadata": {},
   "outputs": [],
   "source": [
    "# user inputs\n",
    "racing_distance = input(\"Please enter the racing distance (e.g. '300m'): \")\n",
    "\n",
    "while racing_distance:\n",
    "    recorded_race_time = float(input(\"Recorded race time: \"))\n",
    "    recorded_sect_time = float(input(\"Recorded 1st sectional time: \"))\n",
    "    print(f\"Adjusted race time: {recorded_race_time - race_time_variants[racing_distance]}\")\n",
    "    print(f\"Adjusted 1st sectional time: {recorded_sect_time - sect_time_variants[racing_distance]}\")\n",
    "    racing_distance = input(\"Please enter the racing distance (e.g. '300m'): \")\n",
    "\n",
    "driver.close()"
   ]
  }
 ],
 "metadata": {
  "interpreter": {
   "hash": "90464387efb32583326a115f47dda8993ee62c128426e5f132b099887b33ee9d"
  },
  "kernelspec": {
   "display_name": "Python 3.10.4 ('OddsScraper': venv)",
   "language": "python",
   "name": "python3"
  },
  "language_info": {
   "codemirror_mode": {
    "name": "ipython",
    "version": 3
   },
   "file_extension": ".py",
   "mimetype": "text/x-python",
   "name": "python",
   "nbconvert_exporter": "python",
   "pygments_lexer": "ipython3",
   "version": "3.10.4"
  },
  "orig_nbformat": 4
 },
 "nbformat": 4,
 "nbformat_minor": 2
}
